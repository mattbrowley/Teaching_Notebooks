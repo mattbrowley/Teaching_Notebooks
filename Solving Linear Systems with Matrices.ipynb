{
 "cells": [
  {
   "cell_type": "markdown",
   "metadata": {},
   "source": [
    "# Solving Linear Systems of Equations with Matrices\n",
    "\n",
    "Solving linear systems of equations is a common problem in physical sciences. These problems can be solved by substitution. First you solve for one variable in one equation. Then you replace that variable in all other equations, and repeat for another variable in another equation. Repeat until you have the actual value of one variable, then using that value work backwards to get the actual values of all the other variables. While possible, this process involves a lot of algebra and can get tedious.\n",
    "\n",
    "There is a much better way to solve linear systems of equations using matrices. Not all systems are linear, so first we should learn how to recognize a linear system. All equations in the system must match the following pattern:\n",
    "\n",
    "$y=\\sum{c_ix_i}$\n",
    "\n",
    "Where $x_i$ are the variables in the system, and $c_i$ are constant coefficients. We will examine a linear system of equations below, but now we should see some examples of NON-linear equations:\n",
    "\n",
    "$y=x^2$\n",
    "\n",
    "$z=xy$\n",
    "\n",
    "$z=\\frac{\\partial f(x, y)}{\\partial y}$\n",
    "\n",
    "Note that these NON-linear equations have variables raised to a higher power, the product of two variables, or a partial derivative. These are only a few examples of the sorts of operations which make an equation non-linear. Basically anything fancy will make it non-linear.\n",
    "\n",
    "The linear system we will use an example is the center-of-mass coordinates for a linear triatomic molecule, O=C=S. Here is a schematic picture of the molecule:\n",
    "\n",
    "O----------C-------cm--------S\n",
    "\n",
    "zO--------zC-------0---------zS\n",
    "\n",
    "We have a few known quantities, namely the masses and the bond distances: $M_O, M_C, M_S, R_{O=C},$ and $R_{C=S}$\n",
    "\n",
    "Our unknowns are the coordinates: $z_O, z_C,$ and $Z_S$\n",
    "\n",
    "Here are our equations:\n",
    "\n",
    "$M_O*z_O + M_C*z_c + M_S*z_s = 0 ~~~~~~\\leftarrow$ This is the definition of the center-of-mass\n",
    "\n",
    "$z_O - z_C = R_{O=C} ~~~~~~\\leftarrow$ This is the definition of the O=C bond length\n",
    "\n",
    "$z_C - z_S = R_{C=S} ~~~~~~\\leftarrow$ This is the definition of the C=O bond length\n",
    "\n",
    "Now, we need to represent these equations as three matrices:\n",
    "\n",
    "$\\mathbf{A}\\cdot\\mathbf{Z}=\\mathbf{B}$\n",
    "\n",
    "where\n",
    "\n",
    "$\\mathbf{A} = \\begin{bmatrix} M_O & M_C & M_S \\\\ 1 & -1 & 0\\\\ 0 & 1 & -1 \\end{bmatrix}$,\n",
    "$\\mathbf{Z} = \\begin{bmatrix} z_O \\\\ z_C \\\\ z_S \\end{bmatrix}$, and\n",
    "$\\mathbf{B} = \\begin{bmatrix} 0 \\\\ R_{O=C} \\\\ R_{C=S} \\end{bmatrix}$\n",
    "\n",
    "Now, the rules of matrix algebra are a bit different. Namely, multiplication does not commute, so \"left multiply\" and \"right multiply\" are different. Also, inverse is different. $\\mathbf{A}^{-1}$ is defined as the matrix that satisfies the equation: $\\mathbf{A}^{-1}\\cdot\\mathbf{A}=\\mathbf{I}$ where $\\mathbf{I}$ is the identity matrix. The identity matrix is like 1, it will not change any matrix through multiplication. This actually is all we need to know to solve the equation.\n",
    "\n",
    "$\\mathbf{A}\\cdot\\mathbf{Z}=\\mathbf{B}$\n",
    "\n",
    "Now left multiply both sides by $\\mathbf{A}^{-1}$\n",
    "\n",
    "$\\mathbf{A}^{-1}\\cdot\\mathbf{A}\\cdot\\mathbf{Z}=\\mathbf{A}^{-1}\\cdot\\mathbf{B}$\n",
    "\n",
    "$\\mathbf{I}\\cdot\\mathbf{Z}=\\mathbf{A}^{-1}\\cdot\\mathbf{B}$\n",
    "\n",
    "$\\mathbf{Z}=\\mathbf{A}^{-1}\\cdot\\mathbf{B}$\n",
    "\n",
    "The python code below will show this at work, but you should learn how to use matrices on your calculator."
   ]
  },
  {
   "cell_type": "code",
   "execution_count": 44,
   "metadata": {
    "collapsed": false
   },
   "outputs": [
    {
     "name": "stdout",
     "output_type": "stream",
     "text": [
      "A=[[ 15.994915  12.        31.97207 ]\n",
      " [  1.        -1.         0.      ]\n",
      " [  0.         1.        -1.      ]] \n",
      "B=[[   0.  ]\n",
      " [ 115.43]\n",
      " [ 156.28]]\n"
     ]
    }
   ],
   "source": [
    "import numpy as np\n",
    "r_OC = 115.43\n",
    "r_CS = 156.28\n",
    "M_O = 15.994915\n",
    "M_C = 12.00000  # This is the definition of the amu, so it is exactly 12\n",
    "M_S = 31.972070\n",
    "\n",
    "A = np.matrix([[M_O, M_C, M_S], [1, -1, 0], [0, 1, -1]])\n",
    "B = np.matrix([[0], [r_OC], [r_CS]])\n",
    "print(\"A={} \\nB={}\".format(A, B))"
   ]
  },
  {
   "cell_type": "code",
   "execution_count": 45,
   "metadata": {
    "collapsed": false
   },
   "outputs": [
    {
     "name": "stdout",
     "output_type": "stream",
     "text": [
      "Z=[[ 167.96394115]\n",
      " [  52.53394115]\n",
      " [-103.74605885]]\n"
     ]
    }
   ],
   "source": [
    "Z = np.matrix.getI(A)*B  # getI is the method to get the inverse of a matrix.\n",
    "                         # '*' is overloaded to properly take the dot product of matrices.\n",
    "print(\"Z={}\".format(Z))"
   ]
  },
  {
   "cell_type": "markdown",
   "metadata": {},
   "source": [
    "###Voila!\n",
    "\n",
    "But there is even more. This method can solve overdeterminded systems. Let's suppose that we also have a value for the total molecule length, and it is not perfectly consistent with the two bond lengths.\n",
    "\n",
    "$z_O - z_S = R_{O=C=S} = 271.02$\n",
    "\n",
    "We can incorporate this at the end of our current $\\mathbf{A}$ and $\\mathbf{B}$.\n",
    "\n",
    "$\\mathbf{A} = \\begin{bmatrix} M_O & M_C & M_S \\\\ 1 & -1 & 0\\\\ 0 & 1 & -1 \\\\ 1 & 0 & -1\\end{bmatrix}$,\n",
    "$\\mathbf{Z} = \\begin{bmatrix} z_O \\\\ z_C \\\\ z_S \\end{bmatrix}$, and\n",
    "$\\mathbf{B} = \\begin{bmatrix} 0 \\\\ R_{O=C} \\\\ R_{C=S} \\\\ R_{O=C=S}\\end{bmatrix}$\n",
    "\n",
    "But now our dimensions aren't right. Just try to find $\\mathbf{A}^{-1}$, and you'll get an error. Here we'll use some linear algebra magic, which I honestly can't explain because I don't remember. But I *Promise* it is legitimate math. In fact, it is a least-squares solution, just like you might get from a trendline in spreadsheet software. Here is an interesting place to learn more. http://pages.cs.wisc.edu/~amos/412/lecture-notes/lecture17.pdf\n",
    "\n",
    "$\\mathbf{A}^T\\cdot\\mathbf{A}$ will return a square matrix which does have an inverse. \n",
    "\n",
    "Now we can multiply by the inverse of that matrix, and the same algebra will work. Note that while matrices don't have a commutative property, they do have an associative property. This makes solving the left side a bit simpler.\n",
    "\n",
    "$\\mathbf{A}\\cdot\\mathbf{Z}=\\mathbf{B}$\n",
    "\n",
    "$\\mathbf{A}^T\\cdot\\mathbf{A}\\cdot\\mathbf{Z}=\\mathbf{A}^T\\cdot\\mathbf{B}$\n",
    "\n",
    "$\\left(\\mathbf{A}^T\\cdot\\mathbf{A}\\right)^{-1}\\cdot\\left(\\mathbf{A}^T\\cdot\\mathbf{A}\\right)\\cdot\\mathbf{Z}=\\left(\\mathbf{A}^T\\cdot\\mathbf{A}\\right)^{-1}\\cdot\\mathbf{A}^T\\cdot\\mathbf{B}$\n",
    "\n",
    "$\\mathbf{I}\\cdot\\mathbf{Z}=\\left(\\mathbf{A}^T\\cdot\\mathbf{A}\\right)^{-1}\\cdot\\mathbf{A}^T\\cdot\\mathbf{B}$\n",
    "\n",
    "$\\mathbf{Z}=\\left(\\mathbf{A}^T\\cdot\\mathbf{A}\\right)^{-1}\\cdot\\mathbf{A}^T\\cdot\\mathbf{B}$"
   ]
  },
  {
   "cell_type": "code",
   "execution_count": 46,
   "metadata": {
    "collapsed": false
   },
   "outputs": [
    {
     "name": "stdout",
     "output_type": "stream",
     "text": [
      "Z=[[ 167.67266167]\n",
      " [  52.47266167]\n",
      " [-103.57733833]]\n"
     ]
    }
   ],
   "source": [
    "r_OS = 271.02  # A made up value, shorter than the real molecule's length\n",
    "new_A = np.matrix([[M_O, M_C, M_S], [1, -1, 0], [0, 1, -1], [1, 0, -1]])\n",
    "new_B = np.matrix([[0], [r_OC], [r_CS], [r_OS]])\n",
    "AT = np.matrix.getT(new_A)\n",
    "new_Z = np.matrix.getI(AT*new_A)*AT*new_B\n",
    "print(\"Z={}\".format(new_Z))"
   ]
  },
  {
   "cell_type": "markdown",
   "metadata": {},
   "source": [
    "Note that these values are all slightly different. The made up experimental value for the total molecule length was shorter than that predicted from the real bond lengths. The new solution which incorporates that value gives positions which yield an intermediate molecular length, splitting the difference between the O=C and C=S bonds."
   ]
  },
  {
   "cell_type": "code",
   "execution_count": 47,
   "metadata": {
    "collapsed": false
   },
   "outputs": [
    {
     "name": "stdout",
     "output_type": "stream",
     "text": [
      "First case: [[ 271.71]]\n",
      "New case: [[ 271.25]]\n",
      "Experimental value: 271.02\n",
      "\n",
      "Difference in O=C:[[-0.23]]\n",
      "Difference in C=S:[[-0.23]]\n"
     ]
    }
   ],
   "source": [
    "print(\"First case: {}\".format(Z[0]-Z[2]))\n",
    "print(\"New case: {}\".format(new_Z[0]-new_Z[2]))\n",
    "print(\"Experimental value: {}\".format(r_OS))\n",
    "print('')\n",
    "print(\"Difference in O=C:{}\".format((new_Z[0]-new_Z[1]) - r_OC))\n",
    "print(\"Difference in C=S:{}\".format((new_Z[1]-new_Z[2]) - r_CS))"
   ]
  },
  {
   "cell_type": "markdown",
   "metadata": {},
   "source": [
    "##Magic! . . .well, actually just linear algebra, but that makes it even better! "
   ]
  },
  {
   "cell_type": "code",
   "execution_count": null,
   "metadata": {
    "collapsed": true
   },
   "outputs": [],
   "source": []
  }
 ],
 "metadata": {
  "kernelspec": {
   "display_name": "Python 2",
   "language": "python",
   "name": "python2"
  },
  "language_info": {
   "codemirror_mode": {
    "name": "ipython",
    "version": 2
   },
   "file_extension": ".py",
   "mimetype": "text/x-python",
   "name": "python",
   "nbconvert_exporter": "python",
   "pygments_lexer": "ipython2",
   "version": "2.7.6"
  }
 },
 "nbformat": 4,
 "nbformat_minor": 0
}
